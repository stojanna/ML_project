{
 "cells": [
  {
   "cell_type": "markdown",
   "id": "62a0d28c",
   "metadata": {},
   "source": [
    "## Online Passive-Aggressive Algorithm"
   ]
  },
  {
   "cell_type": "markdown",
   "id": "2210c299",
   "metadata": {},
   "source": [
    "Online Passive-Aggressive Algorithm pripada familiji algoritama mašinskog učenja koji uče u online režimu tj. primaju podatke sekvencijalno i izvučenu informaciju koriste za ažuriranje trenutnog stanja modela. "
   ]
  },
  {
   "cell_type": "markdown",
   "id": "46b21bd2",
   "metadata": {},
   "source": [
    "Algoritam je naziv dobio jer se ponaša na sledeći način. Ukoliko je greška pri predviđanju na tekućem primeru nula, trenutno stanje algoritma se ne ažurira tj. algoritam je pasivan. U suprotnom se nameće uslov da se stanje ažurira najmanje moguće kako bi tačno predvidelo vrednost ciljne promenljive na tekućem primeru. Ovako opisan pristup naziva se `hard margin`."
   ]
  },
  {
   "cell_type": "markdown",
   "id": "3ed5d74a",
   "metadata": {},
   "source": [
    "Ukoliko navedi uslov da greška bude jednaka nuli oslabimo (primenjujemo `soft margin` pristup) i jačinu doprinosa odstupanja podešavamo hiperparametrom, dobijamo dve modifikacije ovog algoritma - `PA-I` i `PA-II`. U prvom slučaju odstupanje doprinosi linearno problemu optimizacije, a u drugom kvadratno."
   ]
  },
  {
   "cell_type": "markdown",
   "id": "9e4baff7",
   "metadata": {},
   "source": [
    "### Primer 1"
   ]
  },
  {
   "cell_type": "markdown",
   "id": "d2d23bb9",
   "metadata": {},
   "source": [
    "U prvom primeru korišćen je skup podataka [Digits](https://scikit-learn.org/stable/modules/generated/sklearn.datasets.load_digits.html#sklearn.datasets.load_digits) koji se sastoji od 1797 slika rukom pisanih cifara formata 8x8. Upoređivana je tačnost nekih online algoritama pri različitim odnosima trening i test skupa podataka i dobijeni su sledeći rezultati: <img src='assets/plot_1.png'>  "
   ]
  },
  {
   "cell_type": "markdown",
   "id": "1f87e651",
   "metadata": {},
   "source": [
    "### Primer 2"
   ]
  },
  {
   "cell_type": "markdown",
   "id": "c8cba6ed",
   "metadata": {},
   "source": [
    "U drugom primeru predstavljena je implementacija online SVM klasifikatora korišćenjem klase `SGDClassifier`. Navedena su dva slučaja rada algoritma tj. kada algoritam podatke dobija odjednom (batch setting) i sekvencijalno (online setting). Korišćen je [Run or Walk](https://www.kaggle.com/datasets/vmalyi/run-or-walk) skup podataka koji se sastoji od vrednosti senzornih parametara koji opisuju iPhone kada osoba hoda ili trči. Za ocenu modela su korišćene metrike tačnost i f1 score. Prilikom podele skupa podataka na 4 dela tj. epohe, dobijeni su sledeći rezultati: <img src='assets/plot_2.png'>  "
   ]
  },
  {
   "cell_type": "markdown",
   "id": "0675f5a5",
   "metadata": {},
   "source": [
    "### Dalje modifikacije algoritma"
   ]
  },
  {
   "cell_type": "markdown",
   "id": "6851d23f",
   "metadata": {},
   "source": [
    "Na kraju su navedene neke od daljih modifikacija algoritma u slučaju binarne klasifikacije. Pomenuti su `PA algoritam sa aktivnim učenjem`, `kernelizovani PA algoritam` i `proređeni PA algoritam`."
   ]
  },
  {
   "cell_type": "markdown",
   "id": "4abf3af6",
   "metadata": {},
   "source": [
    "Prvi koristi ideju o vrednovanju instance i njenom doprinosu ažuriranju modela sa verovatnoćom proporcionalnom značajnosti tj. stepenu nesigurnosti pri predviđanju na datom primeru."
   ]
  },
  {
   "cell_type": "markdown",
   "id": "1056e4b9",
   "metadata": {},
   "source": [
    "Drugi pomoću kernela uvodi nelinearnost, dok treća modifikacija, između ostalih, kombinuje prethodne dve ideje kako bi krajnji uprosečeni izlazni klasifikator imao ograničen broj potpornih vektora pri online-to-batch konverziji. "
   ]
  },
  {
   "cell_type": "markdown",
   "id": "8fa6ab67",
   "metadata": {},
   "source": [
    "### Literatura"
   ]
  },
  {
   "cell_type": "markdown",
   "id": "d8f49363",
   "metadata": {},
   "source": [
    "1. Teorijski uvod [1](https://jmlr.csail.mit.edu/papers/volume7/crammer06a/crammer06a.pdf), [2](https://view.officeapps.live.com/op/view.aspx?src=https%3A%2F%2Fhome.ttic.edu%2F~shai%2Fppt%2FPassiveAggressive.ppt&wdOrigin=BROWSELINK)\n",
    "2. [Upoređivanje različitih online algoritama](https://scikit-learn.org/stable/auto_examples/linear_model/plot_sgd_comparison.html#sphx-glr-auto-examples-linear-model-plot-sgd-comparison-py) \n",
    "3. [Online SVM klasifikator](https://www.kaggle.com/code/prashantdandriyal/online-svm-classifier-sgdclassifier/notebook)\n",
    "4. Razne modifikacije PA algoritma [1](https://github.com/kennedyCzar/Active-learning-and-online-learning-machine-learning-algorithms./blob/master/REPORT/onlinelearning.pdf), [2](https://ink.library.smu.edu.sg/cgi/viewcontent.cgi?article=5001&context=sis_research)"
   ]
  }
 ],
 "metadata": {
  "kernelspec": {
   "display_name": "Python 3 (ipykernel)",
   "language": "python",
   "name": "python3"
  },
  "language_info": {
   "codemirror_mode": {
    "name": "ipython",
    "version": 3
   },
   "file_extension": ".py",
   "mimetype": "text/x-python",
   "name": "python",
   "nbconvert_exporter": "python",
   "pygments_lexer": "ipython3",
   "version": "3.9.7"
  }
 },
 "nbformat": 4,
 "nbformat_minor": 5
}
