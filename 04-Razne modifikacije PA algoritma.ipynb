{
 "cells": [
  {
   "cell_type": "markdown",
   "id": "e8782603",
   "metadata": {},
   "source": [
    "## Razne modifikacije PA algoritma"
   ]
  },
  {
   "cell_type": "markdown",
   "id": "c071796a",
   "metadata": {},
   "source": [
    "### PA algoritam sa aktivnim učenjem"
   ]
  },
  {
   "cell_type": "markdown",
   "id": "d8cb0d3a",
   "metadata": {},
   "source": [
    "Obezbeđivanje vrednosti ciljne promenljive za svaku instancu je skup i vremenski zahtevan zadatak. Ova modifikacija predstavlja polu-nadgledanu strategiju koja redukuje naše zahteve tako što bira najvrednije instance za treniranje modela. Što je model manje siguran prilikom predviđanja sa datom instancom, to je ona vrednija tj. veca je verovatnoća da ćemo je koristiti za dalje ažuriranje modela. Na slici ispod prikazan je algoritam koji koristi Bernulijevu raspodelu sa datim parametrom za odlučivanje."
   ]
  },
  {
   "cell_type": "markdown",
   "id": "d8eaf7be",
   "metadata": {},
   "source": [
    "<img src='assets/active_learning.png'>"
   ]
  },
  {
   "cell_type": "markdown",
   "id": "bb70e291",
   "metadata": {},
   "source": [
    "### Kernelizovani PA algoritam"
   ]
  },
  {
   "cell_type": "markdown",
   "id": "c173b966",
   "metadata": {},
   "source": [
    "U PA algoritam možemo uvesti nelinearnost pomoću kernela projektovanjem naših podataka na Hilbertov prostor. Kako se to odražava na PA-I algoritam u slučaju binarne klasifikacije možemo videti na slici ispod."
   ]
  },
  {
   "cell_type": "markdown",
   "id": "678077e8",
   "metadata": {},
   "source": [
    "<img src='assets/kernel_PA.png'>"
   ]
  },
  {
   "cell_type": "markdown",
   "id": "93442549",
   "metadata": {},
   "source": [
    "Sada, umesto prethodnog predviđanja koje je iznosilo  $w_t*x_t = sign(\\sum_{i=1}^{i=t-1}{\\tau_t  y_t (x_i*x_t)})$, imamo sledeće: $w_t*x_t = sign(\\sum_{i=1}^{i=t-1}{\\tau_t  y_t K(x_i,x_t)})$."
   ]
  },
  {
   "cell_type": "markdown",
   "id": "4995bb9d",
   "metadata": {},
   "source": [
    "### Proređeni PA algoritam"
   ]
  },
  {
   "cell_type": "markdown",
   "id": "5e0b7f39",
   "metadata": {},
   "source": [
    "Navodimo još jedan algoritam, [Sparse Passive-Aggressive Algorithm (SPA)](https://ink.library.smu.edu.sg/cgi/viewcontent.cgi?article=5001&context=sis_research), koji, između ostalih, koristi i prethodne dve ideje. Cilj ove modifikacije je da krajnji uprosečeni izlazni klasifikator ima ograničen broj potpornih vektora pri online-to-batch konverziji. Skica modifikovanog algoritma je prikazana na slici ispod."
   ]
  },
  {
   "cell_type": "markdown",
   "id": "4b7cc94c",
   "metadata": {},
   "source": [
    "<img src='assets/sparse_PA.png'>"
   ]
  },
  {
   "cell_type": "markdown",
   "id": "6581872e",
   "metadata": {},
   "source": [
    "Izvor: [Active learning and online learning machine learning algorithms](https://github.com/kennedyCzar/Active-learning-and-online-learning-machine-learning-algorithms./blob/master/REPORT/onlinelearning.pdf)"
   ]
  }
 ],
 "metadata": {
  "kernelspec": {
   "display_name": "Python 3 (ipykernel)",
   "language": "python",
   "name": "python3"
  },
  "language_info": {
   "codemirror_mode": {
    "name": "ipython",
    "version": 3
   },
   "file_extension": ".py",
   "mimetype": "text/x-python",
   "name": "python",
   "nbconvert_exporter": "python",
   "pygments_lexer": "ipython3",
   "version": "3.9.7"
  }
 },
 "nbformat": 4,
 "nbformat_minor": 5
}
