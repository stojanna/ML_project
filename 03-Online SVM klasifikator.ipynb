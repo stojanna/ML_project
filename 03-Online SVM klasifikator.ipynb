{
 "cells": [
  {
   "cell_type": "markdown",
   "id": "f34264b2",
   "metadata": {},
   "source": [
    "## Primer 2\n",
    "### Online SVM klasifikator"
   ]
  },
  {
   "cell_type": "markdown",
   "id": "3c9c24c9",
   "metadata": {},
   "source": [
    "Na ovom primeru pokazaćemo kako se može trenirati online klasifikator korišćenjem klase [SGDClassifier](https://scikit-learn.org/stable/modules/generated/sklearn.linear_model.SGDClassifier.html#sklearn.linear_model.SGDClassifier.partial_fit). Uporedićemo performanse modela dobijene u sledeća 2 slučaja:\n",
    "1. obrađivanje kompletnog skupa podataka odjednom (batch/offline setting)\n",
    "2. obrađivanje podskupa podataka sekvencijalno (online setting)\n",
    "                                                                                                        \n",
    "Koristićemo [Run or Walk](https://www.kaggle.com/datasets/vmalyi/run-or-walk) skup podataka koji se sastoji od vrednosti senzornih parametara koji opisuju iPhone kada osoba hoda ili trči. "
   ]
  },
  {
   "cell_type": "code",
   "execution_count": 1,
   "id": "24834611",
   "metadata": {},
   "outputs": [],
   "source": [
    "import numpy as np \n",
    "import pandas as pd\n",
    "import time\n",
    "import matplotlib.pyplot as plt\n",
    "import pickle\n",
    "from datetime import time"
   ]
  },
  {
   "cell_type": "code",
   "execution_count": 2,
   "id": "a49f350e",
   "metadata": {},
   "outputs": [],
   "source": [
    "from sklearn.linear_model import SGDClassifier\n",
    "from sklearn.model_selection import train_test_split\n",
    "from sklearn.preprocessing import StandardScaler\n",
    "from sklearn.metrics import accuracy_score\n",
    "from sklearn.metrics import f1_score"
   ]
  },
  {
   "cell_type": "code",
   "execution_count": 3,
   "id": "3973ba3c",
   "metadata": {},
   "outputs": [
    {
     "data": {
      "text/plain": [
       "(88588, 11)"
      ]
     },
     "execution_count": 3,
     "metadata": {},
     "output_type": "execute_result"
    }
   ],
   "source": [
    "# učitavamo podatke i prikazujemo dimenzije\n",
    "df = pd.read_csv(\"dataset.csv\")\n",
    "df.shape"
   ]
  },
  {
   "cell_type": "code",
   "execution_count": 4,
   "id": "0a9d314a",
   "metadata": {},
   "outputs": [
    {
     "data": {
      "text/html": [
       "<div>\n",
       "<style scoped>\n",
       "    .dataframe tbody tr th:only-of-type {\n",
       "        vertical-align: middle;\n",
       "    }\n",
       "\n",
       "    .dataframe tbody tr th {\n",
       "        vertical-align: top;\n",
       "    }\n",
       "\n",
       "    .dataframe thead th {\n",
       "        text-align: right;\n",
       "    }\n",
       "</style>\n",
       "<table border=\"1\" class=\"dataframe\">\n",
       "  <thead>\n",
       "    <tr style=\"text-align: right;\">\n",
       "      <th></th>\n",
       "      <th>date</th>\n",
       "      <th>time</th>\n",
       "      <th>username</th>\n",
       "      <th>wrist</th>\n",
       "      <th>activity</th>\n",
       "      <th>acceleration_x</th>\n",
       "      <th>acceleration_y</th>\n",
       "      <th>acceleration_z</th>\n",
       "      <th>gyro_x</th>\n",
       "      <th>gyro_y</th>\n",
       "      <th>gyro_z</th>\n",
       "    </tr>\n",
       "  </thead>\n",
       "  <tbody>\n",
       "    <tr>\n",
       "      <th>0</th>\n",
       "      <td>2017-6-30</td>\n",
       "      <td>13:51:15:847724020</td>\n",
       "      <td>viktor</td>\n",
       "      <td>0</td>\n",
       "      <td>0</td>\n",
       "      <td>0.2650</td>\n",
       "      <td>-0.7814</td>\n",
       "      <td>-0.0076</td>\n",
       "      <td>-0.0590</td>\n",
       "      <td>0.0325</td>\n",
       "      <td>-2.9296</td>\n",
       "    </tr>\n",
       "    <tr>\n",
       "      <th>1</th>\n",
       "      <td>2017-6-30</td>\n",
       "      <td>13:51:16:246945023</td>\n",
       "      <td>viktor</td>\n",
       "      <td>0</td>\n",
       "      <td>0</td>\n",
       "      <td>0.6722</td>\n",
       "      <td>-1.1233</td>\n",
       "      <td>-0.2344</td>\n",
       "      <td>-0.1757</td>\n",
       "      <td>0.0208</td>\n",
       "      <td>0.1269</td>\n",
       "    </tr>\n",
       "    <tr>\n",
       "      <th>2</th>\n",
       "      <td>2017-6-30</td>\n",
       "      <td>13:51:16:446233987</td>\n",
       "      <td>viktor</td>\n",
       "      <td>0</td>\n",
       "      <td>0</td>\n",
       "      <td>0.4399</td>\n",
       "      <td>-1.4817</td>\n",
       "      <td>0.0722</td>\n",
       "      <td>-0.9105</td>\n",
       "      <td>0.1063</td>\n",
       "      <td>-2.4367</td>\n",
       "    </tr>\n",
       "    <tr>\n",
       "      <th>3</th>\n",
       "      <td>2017-6-30</td>\n",
       "      <td>13:51:16:646117985</td>\n",
       "      <td>viktor</td>\n",
       "      <td>0</td>\n",
       "      <td>0</td>\n",
       "      <td>0.3031</td>\n",
       "      <td>-0.8125</td>\n",
       "      <td>0.0888</td>\n",
       "      <td>0.1199</td>\n",
       "      <td>-0.4099</td>\n",
       "      <td>-2.9336</td>\n",
       "    </tr>\n",
       "    <tr>\n",
       "      <th>4</th>\n",
       "      <td>2017-6-30</td>\n",
       "      <td>13:51:16:846738994</td>\n",
       "      <td>viktor</td>\n",
       "      <td>0</td>\n",
       "      <td>0</td>\n",
       "      <td>0.4814</td>\n",
       "      <td>-0.9312</td>\n",
       "      <td>0.0359</td>\n",
       "      <td>0.0527</td>\n",
       "      <td>0.4379</td>\n",
       "      <td>2.4922</td>\n",
       "    </tr>\n",
       "  </tbody>\n",
       "</table>\n",
       "</div>"
      ],
      "text/plain": [
       "        date                time username  wrist  activity  acceleration_x  \\\n",
       "0  2017-6-30  13:51:15:847724020   viktor      0         0          0.2650   \n",
       "1  2017-6-30  13:51:16:246945023   viktor      0         0          0.6722   \n",
       "2  2017-6-30  13:51:16:446233987   viktor      0         0          0.4399   \n",
       "3  2017-6-30  13:51:16:646117985   viktor      0         0          0.3031   \n",
       "4  2017-6-30  13:51:16:846738994   viktor      0         0          0.4814   \n",
       "\n",
       "   acceleration_y  acceleration_z  gyro_x  gyro_y  gyro_z  \n",
       "0         -0.7814         -0.0076 -0.0590  0.0325 -2.9296  \n",
       "1         -1.1233         -0.2344 -0.1757  0.0208  0.1269  \n",
       "2         -1.4817          0.0722 -0.9105  0.1063 -2.4367  \n",
       "3         -0.8125          0.0888  0.1199 -0.4099 -2.9336  \n",
       "4         -0.9312          0.0359  0.0527  0.4379  2.4922  "
      ]
     },
     "execution_count": 4,
     "metadata": {},
     "output_type": "execute_result"
    }
   ],
   "source": [
    "df.head()"
   ]
  },
  {
   "cell_type": "code",
   "execution_count": 5,
   "id": "1133e957",
   "metadata": {},
   "outputs": [
    {
     "data": {
      "text/html": [
       "<div>\n",
       "<style scoped>\n",
       "    .dataframe tbody tr th:only-of-type {\n",
       "        vertical-align: middle;\n",
       "    }\n",
       "\n",
       "    .dataframe tbody tr th {\n",
       "        vertical-align: top;\n",
       "    }\n",
       "\n",
       "    .dataframe thead th {\n",
       "        text-align: right;\n",
       "    }\n",
       "</style>\n",
       "<table border=\"1\" class=\"dataframe\">\n",
       "  <thead>\n",
       "    <tr style=\"text-align: right;\">\n",
       "      <th></th>\n",
       "      <th>wrist</th>\n",
       "      <th>activity</th>\n",
       "      <th>acceleration_x</th>\n",
       "      <th>acceleration_y</th>\n",
       "      <th>acceleration_z</th>\n",
       "      <th>gyro_x</th>\n",
       "      <th>gyro_y</th>\n",
       "      <th>gyro_z</th>\n",
       "    </tr>\n",
       "  </thead>\n",
       "  <tbody>\n",
       "    <tr>\n",
       "      <th>count</th>\n",
       "      <td>88588.000000</td>\n",
       "      <td>88588.000000</td>\n",
       "      <td>88588.000000</td>\n",
       "      <td>88588.000000</td>\n",
       "      <td>88588.000000</td>\n",
       "      <td>88588.000000</td>\n",
       "      <td>88588.000000</td>\n",
       "      <td>88588.000000</td>\n",
       "    </tr>\n",
       "    <tr>\n",
       "      <th>mean</th>\n",
       "      <td>0.522170</td>\n",
       "      <td>0.500801</td>\n",
       "      <td>-0.074811</td>\n",
       "      <td>-0.562585</td>\n",
       "      <td>-0.313956</td>\n",
       "      <td>0.004160</td>\n",
       "      <td>0.037203</td>\n",
       "      <td>0.022327</td>\n",
       "    </tr>\n",
       "    <tr>\n",
       "      <th>std</th>\n",
       "      <td>0.499511</td>\n",
       "      <td>0.500002</td>\n",
       "      <td>1.009299</td>\n",
       "      <td>0.658458</td>\n",
       "      <td>0.486815</td>\n",
       "      <td>1.253423</td>\n",
       "      <td>1.198725</td>\n",
       "      <td>1.914423</td>\n",
       "    </tr>\n",
       "    <tr>\n",
       "      <th>min</th>\n",
       "      <td>0.000000</td>\n",
       "      <td>0.000000</td>\n",
       "      <td>-5.350500</td>\n",
       "      <td>-3.299000</td>\n",
       "      <td>-3.753800</td>\n",
       "      <td>-4.430600</td>\n",
       "      <td>-7.464700</td>\n",
       "      <td>-9.480000</td>\n",
       "    </tr>\n",
       "    <tr>\n",
       "      <th>25%</th>\n",
       "      <td>0.000000</td>\n",
       "      <td>0.000000</td>\n",
       "      <td>-0.381800</td>\n",
       "      <td>-1.033500</td>\n",
       "      <td>-0.376000</td>\n",
       "      <td>-0.920700</td>\n",
       "      <td>-0.644825</td>\n",
       "      <td>-1.345125</td>\n",
       "    </tr>\n",
       "    <tr>\n",
       "      <th>50%</th>\n",
       "      <td>1.000000</td>\n",
       "      <td>1.000000</td>\n",
       "      <td>-0.059500</td>\n",
       "      <td>-0.759100</td>\n",
       "      <td>-0.221000</td>\n",
       "      <td>0.018700</td>\n",
       "      <td>0.039300</td>\n",
       "      <td>0.006900</td>\n",
       "    </tr>\n",
       "    <tr>\n",
       "      <th>75%</th>\n",
       "      <td>1.000000</td>\n",
       "      <td>1.000000</td>\n",
       "      <td>0.355500</td>\n",
       "      <td>-0.241775</td>\n",
       "      <td>-0.085900</td>\n",
       "      <td>0.888800</td>\n",
       "      <td>0.733700</td>\n",
       "      <td>1.398200</td>\n",
       "    </tr>\n",
       "    <tr>\n",
       "      <th>max</th>\n",
       "      <td>1.000000</td>\n",
       "      <td>1.000000</td>\n",
       "      <td>5.603300</td>\n",
       "      <td>2.668000</td>\n",
       "      <td>1.640300</td>\n",
       "      <td>4.874200</td>\n",
       "      <td>8.498000</td>\n",
       "      <td>11.266200</td>\n",
       "    </tr>\n",
       "  </tbody>\n",
       "</table>\n",
       "</div>"
      ],
      "text/plain": [
       "              wrist      activity  acceleration_x  acceleration_y  \\\n",
       "count  88588.000000  88588.000000    88588.000000    88588.000000   \n",
       "mean       0.522170      0.500801       -0.074811       -0.562585   \n",
       "std        0.499511      0.500002        1.009299        0.658458   \n",
       "min        0.000000      0.000000       -5.350500       -3.299000   \n",
       "25%        0.000000      0.000000       -0.381800       -1.033500   \n",
       "50%        1.000000      1.000000       -0.059500       -0.759100   \n",
       "75%        1.000000      1.000000        0.355500       -0.241775   \n",
       "max        1.000000      1.000000        5.603300        2.668000   \n",
       "\n",
       "       acceleration_z        gyro_x        gyro_y        gyro_z  \n",
       "count    88588.000000  88588.000000  88588.000000  88588.000000  \n",
       "mean        -0.313956      0.004160      0.037203      0.022327  \n",
       "std          0.486815      1.253423      1.198725      1.914423  \n",
       "min         -3.753800     -4.430600     -7.464700     -9.480000  \n",
       "25%         -0.376000     -0.920700     -0.644825     -1.345125  \n",
       "50%         -0.221000      0.018700      0.039300      0.006900  \n",
       "75%         -0.085900      0.888800      0.733700      1.398200  \n",
       "max          1.640300      4.874200      8.498000     11.266200  "
      ]
     },
     "execution_count": 5,
     "metadata": {},
     "output_type": "execute_result"
    }
   ],
   "source": [
    "# odbacujemo kolone sa nepotrebnim podacima i prikazujemo deskriptivne statistike\n",
    "df = df.drop([\"date\", \"time\", \"username\"], axis=1)\n",
    "df.describe()"
   ]
  },
  {
   "cell_type": "code",
   "execution_count": 6,
   "id": "62d37bdf",
   "metadata": {},
   "outputs": [],
   "source": [
    "data = df.values\n",
    "X = data[:, 1:]\n",
    "y = data[:, 0]"
   ]
  },
  {
   "cell_type": "markdown",
   "id": "c453555e",
   "metadata": {},
   "source": [
    "Sada definišemo model. Promenljiva `firstRun` pokazuje da li treniramo model u batch ili online režimu, a promenljivom `model` se prenosi prethodno istrenirani model u online režimu."
   ]
  },
  {
   "cell_type": "code",
   "execution_count": 7,
   "id": "b3ec5df4",
   "metadata": {},
   "outputs": [],
   "source": [
    "def svmClassifier(scaledData_X, scaledData_Y, firstRun=0, model=None):\n",
    "    try:\n",
    "        np.random.seed(3)\n",
    "        xTrain = scaledData_X\n",
    "        yTrain = scaledData_Y\n",
    "\n",
    "        if yTrain.shape[0] != 1:\n",
    "            yTrain = yTrain.reshape(-1,1)\n",
    "\n",
    "        xShape = xTrain.shape\n",
    "        yShape = yTrain.shape\n",
    "\n",
    "        # proveravamo da li je potrebno kreirati model ili samo ažurirati prethodni\n",
    "        if(firstRun==1):\n",
    "            model = SGDClassifier(\n",
    "                loss=\"hinge\", penalty=\"l2\", alpha=0.0001, max_iter=3000, tol=None, shuffle=True, verbose=0,\n",
    "                learning_rate='adaptive', eta0=0.01, early_stopping=False\n",
    "            )\n",
    "            \n",
    "            # predloženi broj iteracija da bi se postigla konvergencija\n",
    "            model.n_iter = np.ceil(10**6 / len(scaledData_Y))\n",
    "            \n",
    "            # treniramo model\n",
    "            model.fit(xTrain, yTrain)\n",
    "        else:\n",
    "            # kako metod partial_fit radi radi za jednu epohu, prolazimo kroz sve instance\n",
    "            for _ in range(3):\n",
    "                for i in range(xShape[0]):\n",
    "                    x = xTrain[i].reshape(1, -1)\n",
    "                    model.partial_fit(x, yTrain[i])\n",
    "            \n",
    "        \n",
    "        print('Done Training')\n",
    "        message = \"Successfully trained SVMClassifier\"\n",
    "\n",
    "    except Exception as e:\n",
    "        message = e\n",
    "        model = {}\n",
    "\n",
    "    return message, model"
   ]
  },
  {
   "cell_type": "markdown",
   "id": "cbd04278",
   "metadata": {},
   "source": [
    "Pogledajmo kako se model ponaša u prvom slučaju tj. kada dobija sve podatke odjednom."
   ]
  },
  {
   "cell_type": "code",
   "execution_count": 8,
   "id": "70397353",
   "metadata": {},
   "outputs": [
    {
     "name": "stderr",
     "output_type": "stream",
     "text": [
      "C:\\Users\\bonum\\anaconda3\\lib\\site-packages\\sklearn\\utils\\validation.py:63: DataConversionWarning: A column-vector y was passed when a 1d array was expected. Please change the shape of y to (n_samples, ), for example using ravel().\n",
      "  return f(*args, **kwargs)\n"
     ]
    },
    {
     "name": "stdout",
     "output_type": "stream",
     "text": [
      "Done Training\n",
      "Successfully trained SVMClassifier\n",
      "accuracy: 0.9052241838623741\n",
      "f1 score: 0.9052898189613683\n"
     ]
    }
   ],
   "source": [
    "# delimo skup podataka na skup za treniranje i testiranje, a zatim skaliramo podatke\n",
    "X_train, X_test, y_train, y_test = train_test_split(X, y, test_size=0.25, random_state=42)\n",
    "\n",
    "scaler = StandardScaler()\n",
    "scaler.fit(X_train)\n",
    "X_train = scaler.transform(X_train)\n",
    "X_test = scaler.transform(X_test)\n",
    "\n",
    "# treniramo model i proveravamo tačnost\n",
    "message, model = svmClassifier(X_train, y_train, 1); print(message)\n",
    "\n",
    "total_accuracy = accuracy_score(y_test, model.predict(X_test))\n",
    "total_f1_score = f1_score(y_test, model.predict(X_test), average='weighted')\n",
    "print(\"accuracy: {}\".format(total_accuracy))\n",
    "print(\"f1 score: {}\".format(total_f1_score))"
   ]
  },
  {
   "cell_type": "markdown",
   "id": "fa28362a",
   "metadata": {},
   "source": [
    "Pređimo sada na drugi slučaj tj. na online režim. Najpre ćemo podeliti skup podataka na 4 dela."
   ]
  },
  {
   "cell_type": "code",
   "execution_count": 9,
   "id": "34937332",
   "metadata": {},
   "outputs": [],
   "source": [
    "X_split = np.array_split(X, 4)\n",
    "y_split = np.array_split(y, 4)\n",
    "scaler = StandardScaler()\n",
    "\n",
    "# ovde čuvamo tačnost modela\n",
    "accuracy = []\n",
    "f1 = []"
   ]
  },
  {
   "cell_type": "code",
   "execution_count": 10,
   "id": "59650efe",
   "metadata": {},
   "outputs": [
    {
     "data": {
      "text/plain": [
       "(4, 22147, 7)"
      ]
     },
     "execution_count": 10,
     "metadata": {},
     "output_type": "execute_result"
    }
   ],
   "source": [
    "np.array(X_split).shape"
   ]
  },
  {
   "cell_type": "code",
   "execution_count": 11,
   "id": "a11211ab",
   "metadata": {},
   "outputs": [
    {
     "data": {
      "text/plain": [
       "(4, 22147)"
      ]
     },
     "execution_count": 11,
     "metadata": {},
     "output_type": "execute_result"
    }
   ],
   "source": [
    "np.array(y_split).shape"
   ]
  },
  {
   "cell_type": "code",
   "execution_count": 12,
   "id": "12e6f327",
   "metadata": {},
   "outputs": [
    {
     "name": "stderr",
     "output_type": "stream",
     "text": [
      "C:\\Users\\bonum\\anaconda3\\lib\\site-packages\\sklearn\\utils\\validation.py:63: DataConversionWarning: A column-vector y was passed when a 1d array was expected. Please change the shape of y to (n_samples, ), for example using ravel().\n",
      "  return f(*args, **kwargs)\n"
     ]
    },
    {
     "name": "stdout",
     "output_type": "stream",
     "text": [
      "Done Training\n",
      "Successfully trained SVMClassifier\n",
      "accuracy: 0.9398591294925049\n",
      "f1 score: 0.9375183630676401\n"
     ]
    }
   ],
   "source": [
    "# prvi prolaz, kreiramo model\n",
    "X_train, X_test, y_train, y_test = train_test_split(X_split[0], y_split[0], test_size=0.25, random_state=999)\n",
    "\n",
    "# skaliramo podatke\n",
    "scaler.fit(X_train)\n",
    "X_train = scaler.transform(X_train)\n",
    "X_test = scaler.transform(X_test)\n",
    "\n",
    "message, model = svmClassifier(X_train, y_train, 1); print(message)\n",
    "\n",
    "accuracy.append(accuracy_score(y_test, model.predict(X_test)))\n",
    "f1.append(f1_score(y_test, model.predict(X_test), average='weighted'))\n",
    "print(\"accuracy: {}\".format(accuracy[0]))\n",
    "print(\"f1 score: {}\".format(f1[0]))\n",
    "\n",
    "# čuvamo model za dalje ažuriranje\n",
    "modelSaveFile = 'model_data_id.sav'\n",
    "pickle.dump(model, open(modelSaveFile, 'wb'))"
   ]
  },
  {
   "cell_type": "code",
   "execution_count": 13,
   "id": "84e77eb9",
   "metadata": {},
   "outputs": [
    {
     "name": "stdout",
     "output_type": "stream",
     "text": [
      "Done Training\n",
      "Successfully trained SVMClassifier\n",
      "accuracy: 0.9985551742821023\n",
      "f1 score: 0.9985683920732263\n"
     ]
    }
   ],
   "source": [
    "# drugi prolaz, ažuriramo model\n",
    "X_train, X_test, y_train, y_test = train_test_split(X_split[1], y_split[1], test_size=0.25, random_state=999)\n",
    "\n",
    "# učitavamo prethodni model\n",
    "model = pickle.load(open(modelSaveFile, 'rb'))\n",
    "\n",
    "# skaliramo podatke\n",
    "scaler.fit(X_train)\n",
    "X_train = scaler.transform(X_train)\n",
    "X_test = scaler.transform(X_test)\n",
    "\n",
    "message, model = svmClassifier(X_train, y_train, 0, model); print(message)\n",
    "\n",
    "accuracy.append(accuracy_score(y_test, model.predict(X_test)))\n",
    "f1.append(f1_score(y_test, model.predict(X_test), average='weighted'))\n",
    "print(\"accuracy: {}\".format(accuracy[1]))\n",
    "print(\"f1 score: {}\".format(f1[1]))\n",
    "\n",
    "# čuvamo model\n",
    "modelSaveFile = 'model_data_id2.sav'\n",
    "pickle.dump(model, open(modelSaveFile, 'wb'))"
   ]
  },
  {
   "cell_type": "code",
   "execution_count": 14,
   "id": "f65df5db",
   "metadata": {},
   "outputs": [
    {
     "name": "stdout",
     "output_type": "stream",
     "text": [
      "Done Training\n",
      "Successfully trained SVMClassifier\n",
      "accuracy: 0.8809824814881705\n",
      "f1 score: 0.8790445700417155\n"
     ]
    }
   ],
   "source": [
    "# treći prolaz, ažuriramo model\n",
    "X_train, X_test, y_train, y_test = train_test_split(X_split[2], y_split[2], test_size=0.25, random_state=999)\n",
    "\n",
    "# učitavamo prethodni model\n",
    "model = pickle.load(open(modelSaveFile, 'rb'))\n",
    "\n",
    "# skaliramo podatke\n",
    "scaler.fit(X_train)\n",
    "X_train = scaler.transform(X_train)\n",
    "X_test = scaler.transform(X_test)\n",
    "\n",
    "message, model = svmClassifier(X_train, y_train, 0, model); print(message)\n",
    "\n",
    "accuracy.append(accuracy_score(y_test, model.predict(X_test)))\n",
    "f1.append(f1_score(y_test, model.predict(X_test), average='weighted'))\n",
    "print(\"accuracy: {}\".format(accuracy[2]))\n",
    "print(\"f1 score: {}\".format(f1[2]))\n",
    "\n",
    "# čuvamo model\n",
    "modelSaveFile = 'model_data_id3.sav'\n",
    "pickle.dump(model, open(modelSaveFile, 'wb'))"
   ]
  },
  {
   "cell_type": "code",
   "execution_count": 15,
   "id": "de79894c",
   "metadata": {},
   "outputs": [
    {
     "name": "stdout",
     "output_type": "stream",
     "text": [
      "Done Training\n",
      "Successfully trained SVMClassifier\n",
      "accuracy: 1.0\n",
      "f1 score: 1.0\n"
     ]
    }
   ],
   "source": [
    "# četvrti prolaz, ažuriramo model\n",
    "X_train, X_test, y_train, y_test = train_test_split(X_split[3], y_split[3], test_size=0.25, random_state=999)\n",
    "\n",
    "# učitavamo prethodni model\n",
    "model = pickle.load(open(modelSaveFile, 'rb'))\n",
    "\n",
    "# skaliramo podatke\n",
    "scaler.fit(X_train)\n",
    "X_train = scaler.transform(X_train)\n",
    "X_test = scaler.transform(X_test)\n",
    "\n",
    "message, model = svmClassifier(X_train, y_train, 0, model); print(message)\n",
    "\n",
    "accuracy.append(accuracy_score(y_test, model.predict(X_test)))\n",
    "f1.append(f1_score(y_test, model.predict(X_test), average='weighted'))\n",
    "print(\"accuracy: {}\".format(accuracy[3]))\n",
    "print(\"f1 score: {}\".format(f1[3]))\n",
    "\n",
    "# čuvamo model\n",
    "modelSaveFile = 'model_data_id4.sav'\n",
    "pickle.dump(model, open(modelSaveFile, 'wb'))"
   ]
  },
  {
   "cell_type": "markdown",
   "id": "e892ecbe",
   "metadata": {},
   "source": [
    "Prikažimo na grafiku dobijene rezultate. Tačnost i f1 score modela koji je istreniran u prvom slučaju predstavljeni su žutom i isprekidanom crvenom linijom, redom."
   ]
  },
  {
   "cell_type": "code",
   "execution_count": 16,
   "id": "c97b0390",
   "metadata": {},
   "outputs": [
    {
     "data": {
      "image/png": "[encoded data removed]",
      "text/plain": [
       "<Figure size 720x432 with 1 Axes>"
      ]
     },
     "metadata": {
      "needs_background": "light"
     },
     "output_type": "display_data"
    }
   ],
   "source": [
    "plt.figure(figsize=(10, 6))\n",
    "plt.plot(np.arange(1,5), np.array(accuracy), label='accuracy')\n",
    "plt.plot(np.arange(1,5), np.array(f1), label='f1 score')\n",
    "plt.xticks(np.arange(1,5))\n",
    "plt.axhline (total_accuracy, color = 'y', linestyle = '-')\n",
    "plt.axhline (total_f1_score, color = 'r', linestyle = ':')\n",
    "plt.legend(loc='best')\n",
    "plt.xlabel(\"Redni broj prolaza\")\n",
    "plt.ylabel(\"Vrednost metrike\")\n",
    "plt.show()"
   ]
  },
  {
   "cell_type": "markdown",
   "id": "7f4202a0",
   "metadata": {},
   "source": [
    "Primećujemo da su vrednosti obe metrike modela treniranog u online režimu skoro uvek iznad vrednosti metrika prvog modela treniranog nad svim podacima i da najpre rastu, zatim opadaju i na kraju opet rastu. Ovakvi skokovi i padovi vrednosti metrika nisu iznenađujući jer je primećeno da se to dešava pri korišćenju `partial_fit` metoda. Pri kreiranju modela postavili smo vrednost parametra `learning_rate` na **adaptive** čime se postiže da važi `eta = eta0` sve dok se greške modela smanjuju, a ukoliko se nakon određenog broja epoha model ne poboljša, vrednost parametra se deli sa 5 tj. model brže zaboravlja naučeno. Ovim smo sprečili drastičnije promene, recimo 7.9 -> 98.89 -> 47.7 -> 29.4, ali smo na kraju platili 100% tačnošću, tj. model se potpuno prilagovio podacima."
   ]
  },
  {
   "cell_type": "markdown",
   "id": "1dfaa7ca",
   "metadata": {},
   "source": [
    "Izvor: [Online SVM Classifier / SGDClassifier](https://www.kaggle.com/code/prashantdandriyal/online-svm-classifier-sgdclassifier/notebook)"
   ]
  }
 ],
 "metadata": {
  "kernelspec": {
   "display_name": "Python 3 (ipykernel)",
   "language": "python",
   "name": "python3"
  },
  "language_info": {
   "codemirror_mode": {
    "name": "ipython",
    "version": 3
   },
   "file_extension": ".py",
   "mimetype": "text/x-python",
   "name": "python",
   "nbconvert_exporter": "python",
   "pygments_lexer": "ipython3",
   "version": "3.9.7"
  }
 },
 "nbformat": 4,
 "nbformat_minor": 5
}
